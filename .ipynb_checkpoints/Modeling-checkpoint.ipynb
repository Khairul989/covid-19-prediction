{
 "cells": [
  {
   "cell_type": "code",
   "execution_count": 17,
   "metadata": {},
   "outputs": [
    {
     "name": "stdout",
     "output_type": "stream",
     "text": [
      "<class 'pandas.core.frame.DataFrame'>\n",
      "RangeIndex: 237 entries, 0 to 236\n",
      "Data columns (total 5 columns):\n",
      "date          237 non-null datetime64[ns]\n",
      "cases         237 non-null int64\n",
      "discharged    237 non-null int64\n",
      "death         237 non-null int64\n",
      "icu           237 non-null int64\n",
      "dtypes: datetime64[ns](1), int64(4)\n",
      "memory usage: 9.4 KB\n"
     ]
    },
    {
     "data": {
      "text/html": [
       "<div>\n",
       "<style scoped>\n",
       "    .dataframe tbody tr th:only-of-type {\n",
       "        vertical-align: middle;\n",
       "    }\n",
       "\n",
       "    .dataframe tbody tr th {\n",
       "        vertical-align: top;\n",
       "    }\n",
       "\n",
       "    .dataframe thead th {\n",
       "        text-align: right;\n",
       "    }\n",
       "</style>\n",
       "<table border=\"1\" class=\"dataframe\">\n",
       "  <thead>\n",
       "    <tr style=\"text-align: right;\">\n",
       "      <th></th>\n",
       "      <th>cases</th>\n",
       "      <th>discharged</th>\n",
       "      <th>death</th>\n",
       "      <th>icu</th>\n",
       "    </tr>\n",
       "  </thead>\n",
       "  <tbody>\n",
       "    <tr>\n",
       "      <td>cases</td>\n",
       "      <td>1.000000</td>\n",
       "      <td>0.975645</td>\n",
       "      <td>0.989894</td>\n",
       "      <td>-0.150486</td>\n",
       "    </tr>\n",
       "    <tr>\n",
       "      <td>discharged</td>\n",
       "      <td>0.975645</td>\n",
       "      <td>1.000000</td>\n",
       "      <td>0.945745</td>\n",
       "      <td>-0.330656</td>\n",
       "    </tr>\n",
       "    <tr>\n",
       "      <td>death</td>\n",
       "      <td>0.989894</td>\n",
       "      <td>0.945745</td>\n",
       "      <td>1.000000</td>\n",
       "      <td>-0.097992</td>\n",
       "    </tr>\n",
       "    <tr>\n",
       "      <td>icu</td>\n",
       "      <td>-0.150486</td>\n",
       "      <td>-0.330656</td>\n",
       "      <td>-0.097992</td>\n",
       "      <td>1.000000</td>\n",
       "    </tr>\n",
       "  </tbody>\n",
       "</table>\n",
       "</div>"
      ],
      "text/plain": [
       "               cases  discharged     death       icu\n",
       "cases       1.000000    0.975645  0.989894 -0.150486\n",
       "discharged  0.975645    1.000000  0.945745 -0.330656\n",
       "death       0.989894    0.945745  1.000000 -0.097992\n",
       "icu        -0.150486   -0.330656 -0.097992  1.000000"
      ]
     },
     "execution_count": 17,
     "metadata": {},
     "output_type": "execute_result"
    }
   ],
   "source": [
    "import numpy as np\n",
    "import pandas as pd\n",
    "import matplotlib.pyplot as plt\n",
    "from sklearn.linear_model import LinearRegression\n",
    "from sklearn.model_selection import train_test_split, cross_val_score\n",
    "from sklearn.metrics import classification_report\n",
    "from sklearn.metrics import mean_squared_error,accuracy_score\n",
    "from sklearn.neighbors import KNeighborsClassifier \n",
    "\n",
    "df = pd.read_csv('covid-19-malaysia.csv', parse_dates=['date'])\n",
    "df['date'] = pd.to_datetime(df['date'])\n",
    "#df['year'] = df['date'].map(lambda x: x.year)\n",
    "#df['month'] = df['date'].map(lambda x: x.month)\n",
    "df.info()\n",
    "df.describe()\n",
    "df.corr()"
   ]
  },
  {
   "cell_type": "code",
   "execution_count": 18,
   "metadata": {},
   "outputs": [
    {
     "data": {
      "text/plain": [
       "<matplotlib.axes._subplots.AxesSubplot at 0x19d6f553a08>"
      ]
     },
     "execution_count": 18,
     "metadata": {},
     "output_type": "execute_result"
    },
    {
     "data": {
      "image/png": "[encoded data removed]",
      "text/plain": [
       "<Figure size 648x648 with 2 Axes>"
      ]
     },
     "metadata": {
      "needs_background": "light"
     },
     "output_type": "display_data"
    }
   ],
   "source": [
    "import seaborn as sns\n",
    "\n",
    "fig, ax = plt.subplots(figsize=(9,9))\n",
    "sns.heatmap(df.corr(), center=0, cmap='inferno', square=True, linewidths=.5, cbar={\"shrink\":.5}, ax=ax)"
   ]
  },
  {
   "cell_type": "code",
   "execution_count": 28,
   "metadata": {},
   "outputs": [
    {
     "name": "stdout",
     "output_type": "stream",
     "text": [
      "R^2: 0.9977656874096448\n",
      "Root Mean Squared Error: 177.54844701615167\n",
      "Coefficients:  [ 0.54244699 33.76523166 11.76691665]\n",
      "Interception: 108.46657226549723\n",
      "predicted new cases:  [5370.]\n"
     ]
    }
   ],
   "source": [
    "X = df.drop(['cases','date'], axis=1)\n",
    "y = df.cases\n",
    "#y = y.ravel()\n",
    "X_train, X_test, y_train, y_test = train_test_split(X, y, test_size=0.20, random_state=42, shuffle=True)\n",
    "\n",
    "lr = LinearRegression()\n",
    "lr.fit(X_train,y_train)\n",
    "\n",
    "y_pred = lr.predict(X_test)\n",
    "\n",
    "print(\"R^2: {}\".format(lr.score(X_test, y_test)))\n",
    "rmse = np.sqrt(mean_squared_error(y_test,y_pred))\n",
    "print(\"Root Mean Squared Error: {}\".format(rmse))\n",
    "print('Coefficients: ',lr.coef_)\n",
    "print('Interception:',lr.intercept_)\n",
    "print('predicted new cases: ',np.round(lr.predict([[2034,120,9]])))"
   ]
  },
  {
   "cell_type": "code",
   "execution_count": null,
   "metadata": {},
   "outputs": [],
   "source": [
    "#knn prediction score\n",
    "\n",
    "knn = KNeighborsClassifier(n_neighbors = 9)\n",
    "knn.fit(X_train, y_train)\n",
    "\n",
    "a_score = accuracy_score()\n",
    "\n",
    "print(knn.score(X_test, y_test))\n"
   ]
  }
 ],
 "metadata": {
  "kernelspec": {
   "display_name": "Python 3",
   "language": "python",
   "name": "python3"
  },
  "language_info": {
   "codemirror_mode": {
    "name": "ipython",
    "version": 3
   },
   "file_extension": ".py",
   "mimetype": "text/x-python",
   "name": "python",
   "nbconvert_exporter": "python",
   "pygments_lexer": "ipython3",
   "version": "3.7.4"
  }
 },
 "nbformat": 4,
 "nbformat_minor": 2
}
