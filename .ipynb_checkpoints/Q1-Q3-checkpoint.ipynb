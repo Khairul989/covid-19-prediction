{
 "cells": [
  {
   "cell_type": "code",
   "execution_count": 1,
   "metadata": {},
   "outputs": [
    {
     "data": {
      "text/html": [
       "<div>\n",
       "<style scoped>\n",
       "    .dataframe tbody tr th:only-of-type {\n",
       "        vertical-align: middle;\n",
       "    }\n",
       "\n",
       "    .dataframe tbody tr th {\n",
       "        vertical-align: top;\n",
       "    }\n",
       "\n",
       "    .dataframe thead th {\n",
       "        text-align: right;\n",
       "    }\n",
       "</style>\n",
       "<table border=\"1\" class=\"dataframe\">\n",
       "  <thead>\n",
       "    <tr style=\"text-align: right;\">\n",
       "      <th></th>\n",
       "      <th>date</th>\n",
       "      <th>cases</th>\n",
       "      <th>discharged</th>\n",
       "      <th>death</th>\n",
       "      <th>icu</th>\n",
       "    </tr>\n",
       "  </thead>\n",
       "  <tbody>\n",
       "    <tr>\n",
       "      <td>0</td>\n",
       "      <td>24/1/2020</td>\n",
       "      <td>0</td>\n",
       "      <td>0</td>\n",
       "      <td>0</td>\n",
       "      <td>0</td>\n",
       "    </tr>\n",
       "    <tr>\n",
       "      <td>1</td>\n",
       "      <td>25/1/2020</td>\n",
       "      <td>3</td>\n",
       "      <td>0</td>\n",
       "      <td>0</td>\n",
       "      <td>0</td>\n",
       "    </tr>\n",
       "    <tr>\n",
       "      <td>2</td>\n",
       "      <td>26/1/2020</td>\n",
       "      <td>4</td>\n",
       "      <td>0</td>\n",
       "      <td>0</td>\n",
       "      <td>0</td>\n",
       "    </tr>\n",
       "    <tr>\n",
       "      <td>3</td>\n",
       "      <td>27/1/2020</td>\n",
       "      <td>4</td>\n",
       "      <td>0</td>\n",
       "      <td>0</td>\n",
       "      <td>0</td>\n",
       "    </tr>\n",
       "    <tr>\n",
       "      <td>4</td>\n",
       "      <td>28/1/2020</td>\n",
       "      <td>4</td>\n",
       "      <td>0</td>\n",
       "      <td>0</td>\n",
       "      <td>0</td>\n",
       "    </tr>\n",
       "    <tr>\n",
       "      <td>...</td>\n",
       "      <td>...</td>\n",
       "      <td>...</td>\n",
       "      <td>...</td>\n",
       "      <td>...</td>\n",
       "      <td>...</td>\n",
       "    </tr>\n",
       "    <tr>\n",
       "      <td>232</td>\n",
       "      <td>12/9/2020</td>\n",
       "      <td>9868</td>\n",
       "      <td>9189</td>\n",
       "      <td>128</td>\n",
       "      <td>9</td>\n",
       "    </tr>\n",
       "    <tr>\n",
       "      <td>233</td>\n",
       "      <td>13/9/2020</td>\n",
       "      <td>9915</td>\n",
       "      <td>9196</td>\n",
       "      <td>128</td>\n",
       "      <td>9</td>\n",
       "    </tr>\n",
       "    <tr>\n",
       "      <td>234</td>\n",
       "      <td>14/9/2020</td>\n",
       "      <td>9946</td>\n",
       "      <td>9203</td>\n",
       "      <td>128</td>\n",
       "      <td>11</td>\n",
       "    </tr>\n",
       "    <tr>\n",
       "      <td>235</td>\n",
       "      <td>15/9/2020</td>\n",
       "      <td>9969</td>\n",
       "      <td>9209</td>\n",
       "      <td>128</td>\n",
       "      <td>14</td>\n",
       "    </tr>\n",
       "    <tr>\n",
       "      <td>236</td>\n",
       "      <td>16/9/2020</td>\n",
       "      <td>10031</td>\n",
       "      <td>9235</td>\n",
       "      <td>128</td>\n",
       "      <td>15</td>\n",
       "    </tr>\n",
       "  </tbody>\n",
       "</table>\n",
       "<p>237 rows × 5 columns</p>\n",
       "</div>"
      ],
      "text/plain": [
       "          date  cases  discharged  death  icu\n",
       "0    24/1/2020      0           0      0    0\n",
       "1    25/1/2020      3           0      0    0\n",
       "2    26/1/2020      4           0      0    0\n",
       "3    27/1/2020      4           0      0    0\n",
       "4    28/1/2020      4           0      0    0\n",
       "..         ...    ...         ...    ...  ...\n",
       "232  12/9/2020   9868        9189    128    9\n",
       "233  13/9/2020   9915        9196    128    9\n",
       "234  14/9/2020   9946        9203    128   11\n",
       "235  15/9/2020   9969        9209    128   14\n",
       "236  16/9/2020  10031        9235    128   15\n",
       "\n",
       "[237 rows x 5 columns]"
      ]
     },
     "execution_count": 1,
     "metadata": {},
     "output_type": "execute_result"
    }
   ],
   "source": [
    "import pandas as pd\n",
    "import numpy as np\n",
    "import matplotlib.pyplot as plt\n",
    "import seaborn as sns\n",
    "from sklearn.linear_model import LinearRegression\n",
    "\n",
    "cv_19  = pd.read_csv('covid-19-malaysia.csv')\n",
    "cv_death = pd.read_csv('covid-19-my-death-cases.csv')\n",
    "state_case = pd.read_csv('covid-19-my-states-cases.csv')\n",
    "cv_death['states']=cv_death['states'].replace('terrenganu','terengganu')\n",
    "cv_19.discharged.max()\n",
    "cv_19"
   ]
  },
  {
   "cell_type": "code",
   "execution_count": 2,
   "metadata": {},
   "outputs": [
    {
     "name": "stdout",
     "output_type": "stream",
     "text": [
      "wp-kuala-lumpur    2625.0\n",
      "selangor           2199.0\n",
      "negeri-sembilan    1043.0\n",
      "dtype: float64\n"
     ]
    },
    {
     "data": {
      "text/plain": [
       "<matplotlib.axes._subplots.AxesSubplot at 0x1bbc1e2b988>"
      ]
     },
     "execution_count": 2,
     "metadata": {},
     "output_type": "execute_result"
    },
    {
     "data": {
      "image/png": "[encoded data removed]",
      "text/plain": [
       "<Figure size 432x288 with 1 Axes>"
      ]
     },
     "metadata": {
      "needs_background": "light"
     },
     "output_type": "display_data"
    }
   ],
   "source": [
    "state_case.dropna(inplace=True)\n",
    "state_case['wp-putrajaya'] = state_case['wp-putrajaya'].replace('-', 0)\n",
    "state_case['wp-putrajaya'] = state_case['wp-putrajaya'].astype('float')\n",
    "s = state_case.set_index('date')\n",
    "summ = s.max()\n",
    "print(summ.nlargest(3))\n",
    "summ.plot.bar()"
   ]
  },
  {
   "cell_type": "code",
   "execution_count": 3,
   "metadata": {
    "scrolled": true
   },
   "outputs": [
    {
     "data": {
      "text/html": [
       "<div>\n",
       "<style scoped>\n",
       "    .dataframe tbody tr th:only-of-type {\n",
       "        vertical-align: middle;\n",
       "    }\n",
       "\n",
       "    .dataframe tbody tr th {\n",
       "        vertical-align: top;\n",
       "    }\n",
       "\n",
       "    .dataframe thead th {\n",
       "        text-align: right;\n",
       "    }\n",
       "</style>\n",
       "<table border=\"1\" class=\"dataframe\">\n",
       "  <thead>\n",
       "    <tr style=\"text-align: right;\">\n",
       "      <th></th>\n",
       "      <th>date</th>\n",
       "      <th>cases</th>\n",
       "      <th>discharged</th>\n",
       "      <th>death</th>\n",
       "      <th>icu</th>\n",
       "      <th>perlis</th>\n",
       "      <th>kedah</th>\n",
       "      <th>pulau-pinang</th>\n",
       "      <th>perak</th>\n",
       "      <th>selangor</th>\n",
       "      <th>...</th>\n",
       "      <th>melaka</th>\n",
       "      <th>johor</th>\n",
       "      <th>pahang</th>\n",
       "      <th>terengganu</th>\n",
       "      <th>kelantan</th>\n",
       "      <th>sabah</th>\n",
       "      <th>sarawak</th>\n",
       "      <th>wp-kuala-lumpur</th>\n",
       "      <th>wp-putrajaya</th>\n",
       "      <th>wp-labuan</th>\n",
       "    </tr>\n",
       "  </thead>\n",
       "  <tbody>\n",
       "    <tr>\n",
       "      <td>0</td>\n",
       "      <td>13/3/2020</td>\n",
       "      <td>197</td>\n",
       "      <td>32</td>\n",
       "      <td>0</td>\n",
       "      <td>4</td>\n",
       "      <td>1.0</td>\n",
       "      <td>5.0</td>\n",
       "      <td>7.0</td>\n",
       "      <td>2.0</td>\n",
       "      <td>87.0</td>\n",
       "      <td>...</td>\n",
       "      <td>1.0</td>\n",
       "      <td>20.0</td>\n",
       "      <td>2.0</td>\n",
       "      <td>0.0</td>\n",
       "      <td>3.0</td>\n",
       "      <td>15.0</td>\n",
       "      <td>0.0</td>\n",
       "      <td>40.0</td>\n",
       "      <td>1.0</td>\n",
       "      <td>2.0</td>\n",
       "    </tr>\n",
       "    <tr>\n",
       "      <td>1</td>\n",
       "      <td>14/3/2020</td>\n",
       "      <td>238</td>\n",
       "      <td>35</td>\n",
       "      <td>0</td>\n",
       "      <td>5</td>\n",
       "      <td>2.0</td>\n",
       "      <td>5.0</td>\n",
       "      <td>7.0</td>\n",
       "      <td>2.0</td>\n",
       "      <td>92.0</td>\n",
       "      <td>...</td>\n",
       "      <td>6.0</td>\n",
       "      <td>22.0</td>\n",
       "      <td>2.0</td>\n",
       "      <td>0.0</td>\n",
       "      <td>3.0</td>\n",
       "      <td>26.0</td>\n",
       "      <td>6.0</td>\n",
       "      <td>43.0</td>\n",
       "      <td>1.0</td>\n",
       "      <td>2.0</td>\n",
       "    </tr>\n",
       "    <tr>\n",
       "      <td>2</td>\n",
       "      <td>16/3/2020</td>\n",
       "      <td>553</td>\n",
       "      <td>42</td>\n",
       "      <td>0</td>\n",
       "      <td>12</td>\n",
       "      <td>8.0</td>\n",
       "      <td>31.0</td>\n",
       "      <td>15.0</td>\n",
       "      <td>18.0</td>\n",
       "      <td>144.0</td>\n",
       "      <td>...</td>\n",
       "      <td>14.0</td>\n",
       "      <td>52.0</td>\n",
       "      <td>19.0</td>\n",
       "      <td>4.0</td>\n",
       "      <td>18.0</td>\n",
       "      <td>57.0</td>\n",
       "      <td>21.0</td>\n",
       "      <td>106.0</td>\n",
       "      <td>0.0</td>\n",
       "      <td>4.0</td>\n",
       "    </tr>\n",
       "    <tr>\n",
       "      <td>3</td>\n",
       "      <td>17/3/2020</td>\n",
       "      <td>673</td>\n",
       "      <td>49</td>\n",
       "      <td>2</td>\n",
       "      <td>12</td>\n",
       "      <td>8.0</td>\n",
       "      <td>31.0</td>\n",
       "      <td>23.0</td>\n",
       "      <td>23.0</td>\n",
       "      <td>161.0</td>\n",
       "      <td>...</td>\n",
       "      <td>17.0</td>\n",
       "      <td>77.0</td>\n",
       "      <td>28.0</td>\n",
       "      <td>7.0</td>\n",
       "      <td>25.0</td>\n",
       "      <td>82.0</td>\n",
       "      <td>29.0</td>\n",
       "      <td>113.0</td>\n",
       "      <td>0.0</td>\n",
       "      <td>4.0</td>\n",
       "    </tr>\n",
       "    <tr>\n",
       "      <td>4</td>\n",
       "      <td>18/3/2020</td>\n",
       "      <td>790</td>\n",
       "      <td>60</td>\n",
       "      <td>2</td>\n",
       "      <td>15</td>\n",
       "      <td>8.0</td>\n",
       "      <td>36.0</td>\n",
       "      <td>30.0</td>\n",
       "      <td>28.0</td>\n",
       "      <td>192.0</td>\n",
       "      <td>...</td>\n",
       "      <td>18.0</td>\n",
       "      <td>88.0</td>\n",
       "      <td>29.0</td>\n",
       "      <td>10.0</td>\n",
       "      <td>30.0</td>\n",
       "      <td>103.0</td>\n",
       "      <td>49.0</td>\n",
       "      <td>119.0</td>\n",
       "      <td>0.0</td>\n",
       "      <td>5.0</td>\n",
       "    </tr>\n",
       "    <tr>\n",
       "      <td>...</td>\n",
       "      <td>...</td>\n",
       "      <td>...</td>\n",
       "      <td>...</td>\n",
       "      <td>...</td>\n",
       "      <td>...</td>\n",
       "      <td>...</td>\n",
       "      <td>...</td>\n",
       "      <td>...</td>\n",
       "      <td>...</td>\n",
       "      <td>...</td>\n",
       "      <td>...</td>\n",
       "      <td>...</td>\n",
       "      <td>...</td>\n",
       "      <td>...</td>\n",
       "      <td>...</td>\n",
       "      <td>...</td>\n",
       "      <td>...</td>\n",
       "      <td>...</td>\n",
       "      <td>...</td>\n",
       "      <td>...</td>\n",
       "      <td>...</td>\n",
       "    </tr>\n",
       "    <tr>\n",
       "      <td>182</td>\n",
       "      <td>12/9/2020</td>\n",
       "      <td>9868</td>\n",
       "      <td>9189</td>\n",
       "      <td>128</td>\n",
       "      <td>9</td>\n",
       "      <td>33.0</td>\n",
       "      <td>289.0</td>\n",
       "      <td>138.0</td>\n",
       "      <td>269.0</td>\n",
       "      <td>2193.0</td>\n",
       "      <td>...</td>\n",
       "      <td>262.0</td>\n",
       "      <td>752.0</td>\n",
       "      <td>371.0</td>\n",
       "      <td>114.0</td>\n",
       "      <td>160.0</td>\n",
       "      <td>808.0</td>\n",
       "      <td>700.0</td>\n",
       "      <td>2618.0</td>\n",
       "      <td>99.0</td>\n",
       "      <td>23.0</td>\n",
       "    </tr>\n",
       "    <tr>\n",
       "      <td>183</td>\n",
       "      <td>13/9/2020</td>\n",
       "      <td>9915</td>\n",
       "      <td>9196</td>\n",
       "      <td>128</td>\n",
       "      <td>9</td>\n",
       "      <td>33.0</td>\n",
       "      <td>303.0</td>\n",
       "      <td>138.0</td>\n",
       "      <td>269.0</td>\n",
       "      <td>2194.0</td>\n",
       "      <td>...</td>\n",
       "      <td>262.0</td>\n",
       "      <td>752.0</td>\n",
       "      <td>371.0</td>\n",
       "      <td>114.0</td>\n",
       "      <td>160.0</td>\n",
       "      <td>839.0</td>\n",
       "      <td>700.0</td>\n",
       "      <td>2619.0</td>\n",
       "      <td>99.0</td>\n",
       "      <td>23.0</td>\n",
       "    </tr>\n",
       "    <tr>\n",
       "      <td>184</td>\n",
       "      <td>14/9/2020</td>\n",
       "      <td>9946</td>\n",
       "      <td>9203</td>\n",
       "      <td>128</td>\n",
       "      <td>11</td>\n",
       "      <td>33.0</td>\n",
       "      <td>304.0</td>\n",
       "      <td>138.0</td>\n",
       "      <td>269.0</td>\n",
       "      <td>2194.0</td>\n",
       "      <td>...</td>\n",
       "      <td>262.0</td>\n",
       "      <td>752.0</td>\n",
       "      <td>371.0</td>\n",
       "      <td>114.0</td>\n",
       "      <td>160.0</td>\n",
       "      <td>864.0</td>\n",
       "      <td>700.0</td>\n",
       "      <td>2620.0</td>\n",
       "      <td>99.0</td>\n",
       "      <td>23.0</td>\n",
       "    </tr>\n",
       "    <tr>\n",
       "      <td>185</td>\n",
       "      <td>15/9/2020</td>\n",
       "      <td>9969</td>\n",
       "      <td>9209</td>\n",
       "      <td>128</td>\n",
       "      <td>14</td>\n",
       "      <td>33.0</td>\n",
       "      <td>304.0</td>\n",
       "      <td>138.0</td>\n",
       "      <td>269.0</td>\n",
       "      <td>2199.0</td>\n",
       "      <td>...</td>\n",
       "      <td>262.0</td>\n",
       "      <td>752.0</td>\n",
       "      <td>371.0</td>\n",
       "      <td>114.0</td>\n",
       "      <td>160.0</td>\n",
       "      <td>877.0</td>\n",
       "      <td>700.0</td>\n",
       "      <td>2625.0</td>\n",
       "      <td>99.0</td>\n",
       "      <td>23.0</td>\n",
       "    </tr>\n",
       "    <tr>\n",
       "      <td>186</td>\n",
       "      <td>16/9/2020</td>\n",
       "      <td>10031</td>\n",
       "      <td>9235</td>\n",
       "      <td>128</td>\n",
       "      <td>15</td>\n",
       "      <td>33.0</td>\n",
       "      <td>305.0</td>\n",
       "      <td>139.0</td>\n",
       "      <td>269.0</td>\n",
       "      <td>2199.0</td>\n",
       "      <td>...</td>\n",
       "      <td>262.0</td>\n",
       "      <td>752.0</td>\n",
       "      <td>371.0</td>\n",
       "      <td>114.0</td>\n",
       "      <td>160.0</td>\n",
       "      <td>937.0</td>\n",
       "      <td>700.0</td>\n",
       "      <td>2625.0</td>\n",
       "      <td>99.0</td>\n",
       "      <td>23.0</td>\n",
       "    </tr>\n",
       "  </tbody>\n",
       "</table>\n",
       "<p>187 rows × 21 columns</p>\n",
       "</div>"
      ],
      "text/plain": [
       "          date  cases  discharged  death  icu  perlis  kedah  pulau-pinang  \\\n",
       "0    13/3/2020    197          32      0    4     1.0    5.0           7.0   \n",
       "1    14/3/2020    238          35      0    5     2.0    5.0           7.0   \n",
       "2    16/3/2020    553          42      0   12     8.0   31.0          15.0   \n",
       "3    17/3/2020    673          49      2   12     8.0   31.0          23.0   \n",
       "4    18/3/2020    790          60      2   15     8.0   36.0          30.0   \n",
       "..         ...    ...         ...    ...  ...     ...    ...           ...   \n",
       "182  12/9/2020   9868        9189    128    9    33.0  289.0         138.0   \n",
       "183  13/9/2020   9915        9196    128    9    33.0  303.0         138.0   \n",
       "184  14/9/2020   9946        9203    128   11    33.0  304.0         138.0   \n",
       "185  15/9/2020   9969        9209    128   14    33.0  304.0         138.0   \n",
       "186  16/9/2020  10031        9235    128   15    33.0  305.0         139.0   \n",
       "\n",
       "     perak  selangor  ...  melaka  johor  pahang  terengganu  kelantan  sabah  \\\n",
       "0      2.0      87.0  ...     1.0   20.0     2.0         0.0       3.0   15.0   \n",
       "1      2.0      92.0  ...     6.0   22.0     2.0         0.0       3.0   26.0   \n",
       "2     18.0     144.0  ...    14.0   52.0    19.0         4.0      18.0   57.0   \n",
       "3     23.0     161.0  ...    17.0   77.0    28.0         7.0      25.0   82.0   \n",
       "4     28.0     192.0  ...    18.0   88.0    29.0        10.0      30.0  103.0   \n",
       "..     ...       ...  ...     ...    ...     ...         ...       ...    ...   \n",
       "182  269.0    2193.0  ...   262.0  752.0   371.0       114.0     160.0  808.0   \n",
       "183  269.0    2194.0  ...   262.0  752.0   371.0       114.0     160.0  839.0   \n",
       "184  269.0    2194.0  ...   262.0  752.0   371.0       114.0     160.0  864.0   \n",
       "185  269.0    2199.0  ...   262.0  752.0   371.0       114.0     160.0  877.0   \n",
       "186  269.0    2199.0  ...   262.0  752.0   371.0       114.0     160.0  937.0   \n",
       "\n",
       "     sarawak  wp-kuala-lumpur  wp-putrajaya  wp-labuan  \n",
       "0        0.0             40.0           1.0        2.0  \n",
       "1        6.0             43.0           1.0        2.0  \n",
       "2       21.0            106.0           0.0        4.0  \n",
       "3       29.0            113.0           0.0        4.0  \n",
       "4       49.0            119.0           0.0        5.0  \n",
       "..       ...              ...           ...        ...  \n",
       "182    700.0           2618.0          99.0       23.0  \n",
       "183    700.0           2619.0          99.0       23.0  \n",
       "184    700.0           2620.0          99.0       23.0  \n",
       "185    700.0           2625.0          99.0       23.0  \n",
       "186    700.0           2625.0          99.0       23.0  \n",
       "\n",
       "[187 rows x 21 columns]"
      ]
     },
     "execution_count": 3,
     "metadata": {},
     "output_type": "execute_result"
    }
   ],
   "source": [
    "comb_19 = cv_19.merge(state_case, on='date').dropna()\n",
    "comb_19['wp-putrajaya'] = comb_19['wp-putrajaya'].replace('-',0)\n",
    "comb_19['wp-putrajaya'] = comb_19['wp-putrajaya'].astype('float')\n",
    "comb_19"
   ]
  },
  {
   "cell_type": "code",
   "execution_count": 4,
   "metadata": {
    "scrolled": false
   },
   "outputs": [],
   "source": [
    "comb_19 = comb_19.drop(columns=['date','icu','wp-putrajaya','wp-labuan'])"
   ]
  },
  {
   "cell_type": "code",
   "execution_count": 5,
   "metadata": {
    "scrolled": true
   },
   "outputs": [
    {
     "data": {
      "text/plain": [
       "<matplotlib.axes._subplots.AxesSubplot at 0x1bbc1fa33c8>"
      ]
     },
     "execution_count": 5,
     "metadata": {},
     "output_type": "execute_result"
    },
    {
     "data": {
      "image/png": "[encoded data removed]",
      "text/plain": [
       "<Figure size 648x648 with 2 Axes>"
      ]
     },
     "metadata": {
      "needs_background": "light"
     },
     "output_type": "display_data"
    }
   ],
   "source": [
    "n_r=comb_19.corr()\n",
    "\n",
    "fig, ax = plt.subplots(figsize=(9,9))\n",
    "sns.heatmap(n_r, center=0, cmap='inferno', square=True, linewidths=.5, cbar={\"shrink\":.5}, ax=ax)"
   ]
  },
  {
   "cell_type": "code",
   "execution_count": 6,
   "metadata": {},
   "outputs": [
    {
     "data": {
      "text/html": [
       "<div>\n",
       "<style scoped>\n",
       "    .dataframe tbody tr th:only-of-type {\n",
       "        vertical-align: middle;\n",
       "    }\n",
       "\n",
       "    .dataframe tbody tr th {\n",
       "        vertical-align: top;\n",
       "    }\n",
       "\n",
       "    .dataframe thead th {\n",
       "        text-align: right;\n",
       "    }\n",
       "</style>\n",
       "<table border=\"1\" class=\"dataframe\">\n",
       "  <thead>\n",
       "    <tr style=\"text-align: right;\">\n",
       "      <th></th>\n",
       "      <th>states</th>\n",
       "      <th>death</th>\n",
       "    </tr>\n",
       "  </thead>\n",
       "  <tbody>\n",
       "    <tr>\n",
       "      <td>0</td>\n",
       "      <td>johor</td>\n",
       "      <td>22</td>\n",
       "    </tr>\n",
       "    <tr>\n",
       "      <td>1</td>\n",
       "      <td>kedah</td>\n",
       "      <td>3</td>\n",
       "    </tr>\n",
       "    <tr>\n",
       "      <td>2</td>\n",
       "      <td>kelantan</td>\n",
       "      <td>3</td>\n",
       "    </tr>\n",
       "    <tr>\n",
       "      <td>3</td>\n",
       "      <td>kuala-lumpur</td>\n",
       "      <td>27</td>\n",
       "    </tr>\n",
       "    <tr>\n",
       "      <td>4</td>\n",
       "      <td>melaka</td>\n",
       "      <td>5</td>\n",
       "    </tr>\n",
       "    <tr>\n",
       "      <td>5</td>\n",
       "      <td>negeri-sembilan</td>\n",
       "      <td>8</td>\n",
       "    </tr>\n",
       "    <tr>\n",
       "      <td>6</td>\n",
       "      <td>pahang</td>\n",
       "      <td>7</td>\n",
       "    </tr>\n",
       "    <tr>\n",
       "      <td>7</td>\n",
       "      <td>penang</td>\n",
       "      <td>2</td>\n",
       "    </tr>\n",
       "    <tr>\n",
       "      <td>8</td>\n",
       "      <td>perak</td>\n",
       "      <td>6</td>\n",
       "    </tr>\n",
       "    <tr>\n",
       "      <td>9</td>\n",
       "      <td>perlis</td>\n",
       "      <td>1</td>\n",
       "    </tr>\n",
       "    <tr>\n",
       "      <td>10</td>\n",
       "      <td>sabah</td>\n",
       "      <td>8</td>\n",
       "    </tr>\n",
       "    <tr>\n",
       "      <td>11</td>\n",
       "      <td>sarawak</td>\n",
       "      <td>19</td>\n",
       "    </tr>\n",
       "    <tr>\n",
       "      <td>12</td>\n",
       "      <td>selangor</td>\n",
       "      <td>16</td>\n",
       "    </tr>\n",
       "    <tr>\n",
       "      <td>13</td>\n",
       "      <td>terengganu</td>\n",
       "      <td>1</td>\n",
       "    </tr>\n",
       "  </tbody>\n",
       "</table>\n",
       "</div>"
      ],
      "text/plain": [
       "             states  death\n",
       "0             johor     22\n",
       "1             kedah      3\n",
       "2          kelantan      3\n",
       "3      kuala-lumpur     27\n",
       "4            melaka      5\n",
       "5   negeri-sembilan      8\n",
       "6            pahang      7\n",
       "7            penang      2\n",
       "8             perak      6\n",
       "9            perlis      1\n",
       "10            sabah      8\n",
       "11          sarawak     19\n",
       "12         selangor     16\n",
       "13       terengganu      1"
      ]
     },
     "execution_count": 6,
     "metadata": {},
     "output_type": "execute_result"
    }
   ],
   "source": [
    "death = cv_death.fillna(method='bfill')\n",
    "d = []\n",
    "dups = death.pivot_table(index = 'states', aggfunc ='size') \n",
    "dups\n",
    "\n",
    "death_cv = pd.DataFrame(dups)\n",
    "death_cv = death_cv.reset_index()\n",
    "death_cv = death_cv.rename(columns={0:'death'})\n",
    "death_cv"
   ]
  },
  {
   "cell_type": "code",
   "execution_count": 7,
   "metadata": {},
   "outputs": [
    {
     "data": {
      "text/html": [
       "<div>\n",
       "<style scoped>\n",
       "    .dataframe tbody tr th:only-of-type {\n",
       "        vertical-align: middle;\n",
       "    }\n",
       "\n",
       "    .dataframe tbody tr th {\n",
       "        vertical-align: top;\n",
       "    }\n",
       "\n",
       "    .dataframe thead th {\n",
       "        text-align: right;\n",
       "    }\n",
       "</style>\n",
       "<table border=\"1\" class=\"dataframe\">\n",
       "  <thead>\n",
       "    <tr style=\"text-align: right;\">\n",
       "      <th></th>\n",
       "      <th>states</th>\n",
       "      <th>total_cases</th>\n",
       "    </tr>\n",
       "  </thead>\n",
       "  <tbody>\n",
       "    <tr>\n",
       "      <td>1</td>\n",
       "      <td>perlis</td>\n",
       "      <td>33</td>\n",
       "    </tr>\n",
       "    <tr>\n",
       "      <td>2</td>\n",
       "      <td>kedah</td>\n",
       "      <td>305</td>\n",
       "    </tr>\n",
       "    <tr>\n",
       "      <td>3</td>\n",
       "      <td>penang</td>\n",
       "      <td>139</td>\n",
       "    </tr>\n",
       "    <tr>\n",
       "      <td>4</td>\n",
       "      <td>perak</td>\n",
       "      <td>269</td>\n",
       "    </tr>\n",
       "    <tr>\n",
       "      <td>5</td>\n",
       "      <td>selangor</td>\n",
       "      <td>2199</td>\n",
       "    </tr>\n",
       "    <tr>\n",
       "      <td>6</td>\n",
       "      <td>negeri-sembilan</td>\n",
       "      <td>1043</td>\n",
       "    </tr>\n",
       "    <tr>\n",
       "      <td>7</td>\n",
       "      <td>melaka</td>\n",
       "      <td>262</td>\n",
       "    </tr>\n",
       "    <tr>\n",
       "      <td>8</td>\n",
       "      <td>johor</td>\n",
       "      <td>752</td>\n",
       "    </tr>\n",
       "    <tr>\n",
       "      <td>9</td>\n",
       "      <td>pahang</td>\n",
       "      <td>371</td>\n",
       "    </tr>\n",
       "    <tr>\n",
       "      <td>10</td>\n",
       "      <td>terengganu</td>\n",
       "      <td>114</td>\n",
       "    </tr>\n",
       "    <tr>\n",
       "      <td>11</td>\n",
       "      <td>kelantan</td>\n",
       "      <td>160</td>\n",
       "    </tr>\n",
       "    <tr>\n",
       "      <td>12</td>\n",
       "      <td>sabah</td>\n",
       "      <td>937</td>\n",
       "    </tr>\n",
       "    <tr>\n",
       "      <td>13</td>\n",
       "      <td>sarawak</td>\n",
       "      <td>700</td>\n",
       "    </tr>\n",
       "    <tr>\n",
       "      <td>14</td>\n",
       "      <td>kuala-lumpur</td>\n",
       "      <td>2625</td>\n",
       "    </tr>\n",
       "    <tr>\n",
       "      <td>15</td>\n",
       "      <td>wp-putrajaya</td>\n",
       "      <td>99</td>\n",
       "    </tr>\n",
       "    <tr>\n",
       "      <td>16</td>\n",
       "      <td>wp-labuan</td>\n",
       "      <td>23</td>\n",
       "    </tr>\n",
       "  </tbody>\n",
       "</table>\n",
       "</div>"
      ],
      "text/plain": [
       "             states total_cases\n",
       "1            perlis          33\n",
       "2             kedah         305\n",
       "3            penang         139\n",
       "4             perak         269\n",
       "5          selangor        2199\n",
       "6   negeri-sembilan        1043\n",
       "7            melaka         262\n",
       "8             johor         752\n",
       "9            pahang         371\n",
       "10       terengganu         114\n",
       "11         kelantan         160\n",
       "12            sabah         937\n",
       "13          sarawak         700\n",
       "14     kuala-lumpur        2625\n",
       "15     wp-putrajaya          99\n",
       "16        wp-labuan          23"
      ]
     },
     "execution_count": 7,
     "metadata": {},
     "output_type": "execute_result"
    }
   ],
   "source": [
    "state_case = state_case.dropna()\n",
    "state = []\n",
    "for i in state_case.columns:\n",
    "    state.append([i,state_case[i].max()])\n",
    "statess = pd.DataFrame(state)\n",
    "statess=statess.rename(columns={0:'states',1:'total_cases'})\n",
    "statess['states'] = statess['states'].replace('wp-kuala-lumpur','kuala-lumpur')\n",
    "statess['states'] = statess['states'].replace('pulau-pinang','penang')\n",
    "statess.drop(statess.index[0], inplace=True)\n",
    "statess"
   ]
  },
  {
   "cell_type": "code",
   "execution_count": 8,
   "metadata": {},
   "outputs": [
    {
     "data": {
      "text/plain": [
       "Text(0.5, 1.0, 'North Region')"
      ]
     },
     "execution_count": 8,
     "metadata": {},
     "output_type": "execute_result"
    },
    {
     "data": {
      "image/png": "[encoded data removed]",
      "text/plain": [
       "<Figure size 432x288 with 1 Axes>"
      ]
     },
     "metadata": {
      "needs_background": "light"
     },
     "output_type": "display_data"
    }
   ],
   "source": [
    "dah_merge = statess.merge(death_cv, on='states')\n",
    "dah_merge['total_cases'] = dah_merge['total_cases'].astype('int64')\n",
    "dah_merge = dah_merge.drop_duplicates('states')\n",
    "final = dah_merge.reset_index(drop=True)\n",
    "north_r = final[final['states'].isin(['perlis','penang','kedah','perak'])]\n",
    "east_r = final[final['states'].isin(['pahang','terengganu','kelantan'])]\n",
    "central_r = final[final['states'].isin(['selangor','kuala-lumpur'])]\n",
    "south_r = final[final['states'].isin(['negeri-sembilan','melaka','johor'])]\n",
    "east_m = final[final['states'].isin(['sabah','sarawak'])]\n",
    "\n",
    "#plotting time\n",
    "fig,ax = plt.subplots()\n",
    "\n",
    "#north_region\n",
    "ax.bar(north_r.states, north_r.total_cases, width=0.35, label='cases')\n",
    "ax.bar(north_r.states, north_r.death, width=0.35, bottom=north_r.total_cases, label='Death')\n",
    "ax.legend()\n",
    "ax.set_xlabel('States')\n",
    "ax.set_ylabel('Number of Cases, Discharged, Death')\n",
    "ax.set_title('North Region')"
   ]
  },
  {
   "cell_type": "code",
   "execution_count": 9,
   "metadata": {},
   "outputs": [
    {
     "data": {
      "text/plain": [
       "Text(0.5, 1.0, 'East Region')"
      ]
     },
     "execution_count": 9,
     "metadata": {},
     "output_type": "execute_result"
    },
    {
     "data": {
      "image/png": "[encoded data removed]",
      "text/plain": [
       "<Figure size 432x288 with 1 Axes>"
      ]
     },
     "metadata": {
      "needs_background": "light"
     },
     "output_type": "display_data"
    }
   ],
   "source": [
    "east_r.reset_index(inplace=True)\n",
    "fig,ax2 = plt.subplots()\n",
    "ax2.bar(east_r.states, east_r.total_cases, label='Cases')\n",
    "ax2.bar(east_r.states, east_r.death,bottom=east_r.total_cases, label='Death')\n",
    "ax2.legend()\n",
    "ax2.set_xlabel('States')\n",
    "ax2.set_ylabel('Number of Cases, Death')\n",
    "ax2.set_title('East Region')"
   ]
  },
  {
   "cell_type": "code",
   "execution_count": 10,
   "metadata": {},
   "outputs": [
    {
     "data": {
      "text/plain": [
       "Text(0.5, 1.0, 'Central Region')"
      ]
     },
     "execution_count": 10,
     "metadata": {},
     "output_type": "execute_result"
    },
    {
     "data": {
      "image/png": "[encoded data removed]",
      "text/plain": [
       "<Figure size 432x288 with 1 Axes>"
      ]
     },
     "metadata": {
      "needs_background": "light"
     },
     "output_type": "display_data"
    }
   ],
   "source": [
    "central_r.reset_index(inplace=True)\n",
    "fig, ax3 = plt.subplots()\n",
    "ax3.bar(central_r.states, central_r.total_cases, width=0.35, label='Cases')\n",
    "ax3.bar(central_r.states, central_r.death, bottom=central_r.total_cases, width=0.35, label='death')\n",
    "ax3.legend()\n",
    "ax3.set_xlabel('States')\n",
    "ax3.set_ylabel('Number of Cases, Death')\n",
    "ax3.set_title('Central Region')"
   ]
  },
  {
   "cell_type": "code",
   "execution_count": 11,
   "metadata": {},
   "outputs": [
    {
     "data": {
      "text/plain": [
       "Text(0.5, 1.0, 'South Region')"
      ]
     },
     "execution_count": 11,
     "metadata": {},
     "output_type": "execute_result"
    },
    {
     "data": {
      "image/png": "[encoded data removed]",
      "text/plain": [
       "<Figure size 432x288 with 1 Axes>"
      ]
     },
     "metadata": {
      "needs_background": "light"
     },
     "output_type": "display_data"
    }
   ],
   "source": [
    "south_r.reset_index(inplace=True)\n",
    "fig, ax4 = plt.subplots()\n",
    "ax4.bar(south_r.states, south_r.total_cases, width=0.35, label='Cases')\n",
    "ax4.bar(south_r.states, south_r.death, bottom=south_r.total_cases, width=0.35, label='death')\n",
    "ax4.legend()\n",
    "ax4.set_xlabel('States')\n",
    "ax4.set_ylabel('Number of Cases, Death')\n",
    "ax4.set_title('South Region')"
   ]
  },
  {
   "cell_type": "code",
   "execution_count": 12,
   "metadata": {},
   "outputs": [
    {
     "data": {
      "text/plain": [
       "Text(0.5, 1.0, 'East Malaysia Region')"
      ]
     },
     "execution_count": 12,
     "metadata": {},
     "output_type": "execute_result"
    },
    {
     "data": {
      "image/png": "[encoded data removed]",
      "text/plain": [
       "<Figure size 432x288 with 1 Axes>"
      ]
     },
     "metadata": {
      "needs_background": "light"
     },
     "output_type": "display_data"
    }
   ],
   "source": [
    "east_m.reset_index(inplace=True)\n",
    "fig, ax5 = plt.subplots()\n",
    "ax5.bar(east_m.states, east_m.total_cases, width=0.35, label='Cases')\n",
    "ax5.bar(east_m.states, east_m.death, bottom=east_m.total_cases, width=0.35, label='death')\n",
    "ax5.legend()\n",
    "ax5.set_xlabel('States')\n",
    "ax5.set_ylabel('Number of Cases, Death')\n",
    "ax5.set_title('East Malaysia Region')"
   ]
  },
  {
   "cell_type": "code",
   "execution_count": 14,
   "metadata": {},
   "outputs": [
    {
     "name": "stdout",
     "output_type": "stream",
     "text": [
      "old       75\n",
      "middle    18\n",
      "young      4\n",
      "Name: Age_group, dtype: int64\n",
      "total death:  128\n"
     ]
    },
    {
     "data": {
      "text/plain": [
       "<matplotlib.axes._subplots.AxesSubplot at 0x1bbc2427b48>"
      ]
     },
     "execution_count": 14,
     "metadata": {},
     "output_type": "execute_result"
    },
    {
     "data": {
      "image/png": "[encoded data removed]",
      "text/plain": [
       "<Figure size 432x288 with 1 Axes>"
      ]
     },
     "metadata": {
      "needs_background": "light"
     },
     "output_type": "display_data"
    }
   ],
   "source": [
    "male = cv_death[cv_death.gender == 'm']\n",
    "m = male.fillna(method='bfill')\n",
    "m['age']=m['age'].replace('??',np.nan)\n",
    "m = m.dropna()\n",
    "m['age']=m['age'].astype('int64')\n",
    "young = (m['age']>18) & (m['age']<=35)\n",
    "middle = (m['age']>35) & (m['age']<=55)\n",
    "old = m['age']>55\n",
    "m.loc[young,'Age_group']='young'\n",
    "m.loc[middle,'Age_group']='middle'\n",
    "m.loc[old, 'Age_group']='old'\n",
    "\n",
    "print(m.Age_group.value_counts())\n",
    "print('total death: ',len(cv_death))\n",
    "m.Age_group.hist()"
   ]
  }
 ],
 "metadata": {
  "kernelspec": {
   "display_name": "Python 3",
   "language": "python",
   "name": "python3"
  },
  "language_info": {
   "codemirror_mode": {
    "name": "ipython",
    "version": 3
   },
   "file_extension": ".py",
   "mimetype": "text/x-python",
   "name": "python",
   "nbconvert_exporter": "python",
   "pygments_lexer": "ipython3",
   "version": "3.7.4"
  }
 },
 "nbformat": 4,
 "nbformat_minor": 2
}
